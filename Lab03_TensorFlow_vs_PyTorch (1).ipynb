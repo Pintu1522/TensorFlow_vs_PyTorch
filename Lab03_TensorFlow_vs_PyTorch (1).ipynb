{
  "cells": [
    {
      "cell_type": "markdown",
      "id": "5c1e84a1",
      "metadata": {
        "id": "5c1e84a1"
      },
      "source": [
        "# Lab 03: TensorFlow vs. PyTorch\n",
        "- Train a model on MNIST in both TensorFlow and PyTorch, convert to TFLite and ONNX.  \n",
        "- Use tf.GradientTape for Tensorflow custom training loop.\n",
        "\n"
      ]
    },
    {
      "cell_type": "markdown",
      "id": "a1c58bba",
      "metadata": {
        "id": "a1c58bba"
      },
      "source": [
        "## TensorFlow Implementation"
      ]
    },
    {
      "cell_type": "code",
      "execution_count": null,
      "id": "23ebc05e",
      "metadata": {
        "id": "23ebc05e",
        "colab": {
          "base_uri": "https://localhost:8080/"
        },
        "outputId": "f891b80c-fd65-44f3-a99b-8af148e235fa"
      },
      "outputs": [
        {
          "output_type": "stream",
          "name": "stdout",
          "text": [
            "Downloading data from https://storage.googleapis.com/tensorflow/tf-keras-datasets/mnist.npz\n",
            "\u001b[1m11490434/11490434\u001b[0m \u001b[32m━━━━━━━━━━━━━━━━━━━━\u001b[0m\u001b[37m\u001b[0m \u001b[1m0s\u001b[0m 0us/step\n",
            "Epoch 1/5\n",
            "\u001b[1m1875/1875\u001b[0m \u001b[32m━━━━━━━━━━━━━━━━━━━━\u001b[0m\u001b[37m\u001b[0m \u001b[1m6s\u001b[0m 3ms/step - accuracy: 0.8580 - loss: 0.5002\n",
            "Epoch 2/5\n",
            "\u001b[1m1875/1875\u001b[0m \u001b[32m━━━━━━━━━━━━━━━━━━━━\u001b[0m\u001b[37m\u001b[0m \u001b[1m4s\u001b[0m 2ms/step - accuracy: 0.9560 - loss: 0.1562\n",
            "Epoch 3/5\n",
            "\u001b[1m1875/1875\u001b[0m \u001b[32m━━━━━━━━━━━━━━━━━━━━\u001b[0m\u001b[37m\u001b[0m \u001b[1m5s\u001b[0m 2ms/step - accuracy: 0.9659 - loss: 0.1145\n",
            "Epoch 4/5\n",
            "\u001b[1m1875/1875\u001b[0m \u001b[32m━━━━━━━━━━━━━━━━━━━━\u001b[0m\u001b[37m\u001b[0m \u001b[1m6s\u001b[0m 3ms/step - accuracy: 0.9738 - loss: 0.0879\n",
            "Epoch 5/5\n",
            "\u001b[1m1875/1875\u001b[0m \u001b[32m━━━━━━━━━━━━━━━━━━━━\u001b[0m\u001b[37m\u001b[0m \u001b[1m4s\u001b[0m 2ms/step - accuracy: 0.9788 - loss: 0.0723\n",
            "TF Training time: 26.58 seconds\n",
            "\u001b[1m313/313\u001b[0m \u001b[32m━━━━━━━━━━━━━━━━━━━━\u001b[0m\u001b[37m\u001b[0m \u001b[1m1s\u001b[0m 2ms/step - accuracy: 0.9684 - loss: 0.1026\n"
          ]
        },
        {
          "output_type": "execute_result",
          "data": {
            "text/plain": [
              "[0.09102629870176315, 0.9710000157356262]"
            ]
          },
          "metadata": {},
          "execution_count": 1
        }
      ],
      "source": [
        "import tensorflow as tf\n",
        "from tensorflow.keras.datasets import mnist\n",
        "from tensorflow.keras.utils import to_categorical\n",
        "import time\n",
        "\n",
        "# Load the MNIST dataset\n",
        "(x_train, y_train), (x_test, y_test) = mnist.load_data()\n",
        "\n",
        "# Normalize pixel values to range [0, 1]\n",
        "x_train = x_train / 255.0\n",
        "x_test = x_test / 255.0\n",
        "\n",
        "# One-hot encode the labels\n",
        "y_train = to_categorical(y_train)\n",
        "y_test = to_categorical(y_test)\n",
        "\n",
        "# Build a simple feedforward neural network\n",
        "model = tf.keras.Sequential([\n",
        "    tf.keras.layers.Input(shape=(28, 28)),             # Input shape matching MNIST image size\n",
        "    tf.keras.layers.Flatten(),                         # Flatten 28x28 images to 1D vectors\n",
        "    tf.keras.layers.Dense(64, activation='relu'),      # Hidden layer with 64 neurons and ReLU activation\n",
        "    tf.keras.layers.Dense(10, activation='softmax')    # Output layer with 10 neurons (one per digit class)\n",
        "])\n",
        "\n",
        "# Compile the model with Adam optimizer and categorical crossentropy loss\n",
        "model.compile(optimizer='adam',\n",
        "              loss='categorical_crossentropy',\n",
        "              metrics=['accuracy'])\n",
        "\n",
        "# Train the model and measure training time\n",
        "start = time.time()\n",
        "model.fit(x_train, y_train, epochs=5)\n",
        "end = time.time()\n",
        "print(f\"TF Training time: {end-start:.2f} seconds\")     # Print the training duration\n",
        "\n",
        "# Evaluate the model on the test set\n",
        "model.evaluate(x_test, y_test)\n"
      ]
    },
    {
      "cell_type": "markdown",
      "id": "72743ab8",
      "metadata": {
        "id": "72743ab8"
      },
      "source": [
        "## Convert TensorFlow model to TFLite"
      ]
    },
    {
      "cell_type": "code",
      "execution_count": null,
      "id": "be6ab50a",
      "metadata": {
        "id": "be6ab50a",
        "colab": {
          "base_uri": "https://localhost:8080/"
        },
        "outputId": "adae9a36-2330-4756-a973-4224eef7bce1"
      },
      "outputs": [
        {
          "output_type": "stream",
          "name": "stdout",
          "text": [
            "Saved artifact at '/tmp/tmp2zvkcv1_'. The following endpoints are available:\n",
            "\n",
            "* Endpoint 'serve'\n",
            "  args_0 (POSITIONAL_ONLY): TensorSpec(shape=(None, 28, 28), dtype=tf.float32, name='keras_tensor')\n",
            "Output Type:\n",
            "  TensorSpec(shape=(None, 10), dtype=tf.float32, name=None)\n",
            "Captures:\n",
            "  140026886898512: TensorSpec(shape=(), dtype=tf.resource, name=None)\n",
            "  140026886903504: TensorSpec(shape=(), dtype=tf.resource, name=None)\n",
            "  140026886903696: TensorSpec(shape=(), dtype=tf.resource, name=None)\n",
            "  140026886903888: TensorSpec(shape=(), dtype=tf.resource, name=None)\n"
          ]
        }
      ],
      "source": [
        "converter = tf.lite.TFLiteConverter.from_keras_model(model)\n",
        "tflite_model = converter.convert()\n",
        "\n",
        "with open(\"model.tflite\", \"wb\") as f:\n",
        "    f.write(tflite_model)"
      ]
    },
    {
      "cell_type": "markdown",
      "id": "57c00c95",
      "metadata": {
        "id": "57c00c95"
      },
      "source": [
        "## PyTorch Implementation"
      ]
    },
    {
      "cell_type": "code",
      "execution_count": null,
      "id": "623dfb49",
      "metadata": {
        "id": "623dfb49",
        "colab": {
          "base_uri": "https://localhost:8080/"
        },
        "outputId": "21929e5c-167d-4b55-8ffb-1b7a996b0e75"
      },
      "outputs": [
        {
          "output_type": "stream",
          "name": "stderr",
          "text": [
            "100%|██████████| 9.91M/9.91M [00:00<00:00, 16.1MB/s]\n",
            "100%|██████████| 28.9k/28.9k [00:00<00:00, 484kB/s]\n",
            "100%|██████████| 1.65M/1.65M [00:00<00:00, 4.49MB/s]\n",
            "100%|██████████| 4.54k/4.54k [00:00<00:00, 5.82MB/s]\n"
          ]
        },
        {
          "output_type": "stream",
          "name": "stdout",
          "text": [
            "PyTorch Training time: 75.49 seconds\n",
            "Test accuracy: 0.9781\n"
          ]
        }
      ],
      "source": [
        "import torch\n",
        "import torch.nn as nn\n",
        "import torch.nn.functional as F\n",
        "import torch.optim as optim\n",
        "from torchvision import datasets, transforms\n",
        "from torch.utils.data import DataLoader\n",
        "import time  # ◄ Added to measure time\n",
        "\n",
        "# Preprocess: Flatten MNIST images (28x28 → 784) and normalize to [0,1]\n",
        "transform = transforms.Compose([\n",
        "    transforms.ToTensor(),\n",
        "    transforms.Lambda(lambda x: x.view(-1))  # ◄ Flattens the image\n",
        "])\n",
        "\n",
        "# Load datasets\n",
        "train_loader = DataLoader(\n",
        "    datasets.MNIST(root='./data', train=True, transform=transform, download=True),\n",
        "    batch_size=32,\n",
        "    shuffle=True  # ◄ Shuffling for better training\n",
        ")\n",
        "test_loader = DataLoader(\n",
        "    datasets.MNIST(root='./data', train=False, transform=transform, download=True),\n",
        "    batch_size=1000\n",
        ")\n",
        "\n",
        "# Neural Network Architecture\n",
        "class Net(nn.Module):\n",
        "    def __init__(self):\n",
        "        super(Net, self).__init__()\n",
        "        self.fc1 = nn.Linear(784, 256)  # ◄ Input=784 (28*28), Output=256\n",
        "        self.fc2 = nn.Linear(256, 10)   # ◄ Input=256, Output=10 (digits 0-9)\n",
        "\n",
        "    def forward(self, x):\n",
        "        x = F.relu(self.fc1(x))  # ◄ ReLU activation after first layer\n",
        "        return self.fc2(x)        # ◄ Output layer (no softmax: CrossEntropyLoss handles it)\n",
        "\n",
        "model = Net()\n",
        "optimizer = optim.Adam(model.parameters(), lr=0.001)  # ◄ Added learning rate\n",
        "loss_fn = nn.CrossEntropyLoss()\n",
        "\n",
        "# Training loop\n",
        "start = time.time()\n",
        "for epoch in range(5):\n",
        "    model.train()  # ◄ Set model to training mode\n",
        "    for x, y in train_loader:\n",
        "        optimizer.zero_grad()\n",
        "        pred = model(x)\n",
        "        loss = loss_fn(pred, y)\n",
        "        loss.backward()\n",
        "        optimizer.step()\n",
        "end = time.time()\n",
        "print(f\"PyTorch Training time: {end - start:.2f} seconds\")\n",
        "\n",
        "# Evaluation\n",
        "model.eval()\n",
        "correct = 0\n",
        "with torch.no_grad():\n",
        "    for x, y in test_loader:\n",
        "        output = model(x)\n",
        "        pred = output.argmax(dim=1)  # ◄ Get predicted class\n",
        "        correct += (pred == y).sum().item()\n",
        "\n",
        "print(f\"Test accuracy: {correct / len(test_loader.dataset):.4f}\")"
      ]
    },
    {
      "cell_type": "markdown",
      "id": "f6dbdab0",
      "metadata": {
        "id": "f6dbdab0"
      },
      "source": [
        "## Convert PyTorch model to ONNX"
      ]
    },
    {
      "cell_type": "code",
      "source": [
        "# Install ONNX\n",
        "!pip install onnx"
      ],
      "metadata": {
        "id": "WuMKMhHc8aLF",
        "colab": {
          "base_uri": "https://localhost:8080/"
        },
        "outputId": "6a90b06a-f445-4548-bedb-d7457e7fa22a"
      },
      "id": "WuMKMhHc8aLF",
      "execution_count": null,
      "outputs": [
        {
          "output_type": "stream",
          "name": "stdout",
          "text": [
            "Collecting onnx\n",
            "  Downloading onnx-1.18.0-cp311-cp311-manylinux_2_17_x86_64.manylinux2014_x86_64.whl.metadata (6.9 kB)\n",
            "Requirement already satisfied: numpy>=1.22 in /usr/local/lib/python3.11/dist-packages (from onnx) (2.0.2)\n",
            "Requirement already satisfied: protobuf>=4.25.1 in /usr/local/lib/python3.11/dist-packages (from onnx) (5.29.5)\n",
            "Requirement already satisfied: typing_extensions>=4.7.1 in /usr/local/lib/python3.11/dist-packages (from onnx) (4.14.0)\n",
            "Downloading onnx-1.18.0-cp311-cp311-manylinux_2_17_x86_64.manylinux2014_x86_64.whl (17.6 MB)\n",
            "\u001b[2K   \u001b[90m━━━━━━━━━━━━━━━━━━━━━━━━━━━━━━━━━━━━━━━━\u001b[0m \u001b[32m17.6/17.6 MB\u001b[0m \u001b[31m89.2 MB/s\u001b[0m eta \u001b[36m0:00:00\u001b[0m\n",
            "\u001b[?25hInstalling collected packages: onnx\n",
            "Successfully installed onnx-1.18.0\n"
          ]
        }
      ]
    },
    {
      "cell_type": "code",
      "execution_count": null,
      "id": "09925e9a",
      "metadata": {
        "id": "09925e9a"
      },
      "outputs": [],
      "source": [
        "dummy_input = torch.randn(1, 784)\n",
        "torch.onnx.export(model, dummy_input, \"model.onnx\",\n",
        "                  input_names=[\"input\"], output_names=[\"output\"])"
      ]
    },
    {
      "cell_type": "markdown",
      "source": [
        "## TensorFlow custom training loop using tf.GradientTape"
      ],
      "metadata": {
        "id": "sv4P-dSS_GQB"
      },
      "id": "sv4P-dSS_GQB"
    },
    {
      "cell_type": "code",
      "source": [
        "import tensorflow as tf\n",
        "from tensorflow.keras.datasets import mnist\n",
        "from tensorflow.keras.utils import to_categorical\n",
        "import time\n",
        "\n",
        "# Load and preprocess data\n",
        "(x_train, y_train), (x_test, y_test) = mnist.load_data()\n",
        "x_train = x_train / 255.0   # Normalize pixel values to [0, 1]\n",
        "x_test = x_test / 255.0     # Same normalization for test set\n",
        "y_train = to_categorical(y_train)\n",
        "y_test = to_categorical(y_test)\n",
        "\n",
        "# Prepare datasets\n",
        "batch_size = 32             # Match batch size from first TF example\n",
        "train_dataset = tf.data.Dataset.from_tensor_slices((x_train, y_train)).shuffle(10000).batch(batch_size)\n",
        "test_dataset = tf.data.Dataset.from_tensor_slices((x_test, y_test)).batch(batch_size)\n",
        "\n",
        "# Define model\n",
        "model = tf.keras.Sequential([\n",
        "    tf.keras.layers.Input(shape=(28, 28)),    # MNIST image size\n",
        "    tf.keras.layers.Flatten(),                # Flatten to 784-dimensional vector\n",
        "    tf.keras.layers.Dense(128, activation='relu'),    # Hidden layer with 128 neurons\n",
        "    tf.keras.layers.Dense(10, activation='softmax')   # Output layer for 10 classes\n",
        "])\n",
        "\n",
        "# Define loss, optimizer, and metrics\n",
        "loss_fn = tf.keras.losses.CategoricalCrossentropy()\n",
        "optimizer = tf.keras.optimizers.Adam(learning_rate=0.001)  # Added explicit learning rate\n",
        "train_acc_metric = tf.keras.metrics.CategoricalAccuracy()\n",
        "test_acc_metric = tf.keras.metrics.CategoricalAccuracy()\n",
        "\n",
        "# Training loop\n",
        "epochs = 5\n",
        "start = time.time()\n",
        "for epoch in range(epochs):\n",
        "    print(f\"\\nEpoch {epoch + 1}/{epochs}\")\n",
        "    for step, (x_batch, y_batch) in enumerate(train_dataset):\n",
        "        with tf.GradientTape() as tape:\n",
        "            logits = model(x_batch, training=True)\n",
        "            loss = loss_fn(y_batch, logits)\n",
        "        grads = tape.gradient(loss, model.trainable_variables)\n",
        "        optimizer.apply_gradients(zip(grads, model.trainable_variables))\n",
        "        train_acc_metric.update_state(y_batch, logits)\n",
        "\n",
        "        if step % 100 == 0:\n",
        "            print(f\"Step {step}, Loss: {loss.numpy():.4f}, Accuracy: {train_acc_metric.result().numpy():.4f}\")\n",
        "\n",
        "    print(f\"Training Accuracy for epoch {epoch+1}: {train_acc_metric.result().numpy():.4f}\")\n",
        "    train_acc_metric.reset_state()\n",
        "end = time.time()\n",
        "print(f\"\\nTF Training time: {end - start:.2f} seconds\")\n",
        "\n",
        "# Evaluation loop\n",
        "for x_batch, y_batch in test_dataset:\n",
        "    test_logits = model(x_batch, training=False)\n",
        "    test_acc_metric.update_state(y_batch, test_logits)\n",
        "\n",
        "print(f\"Test Accuracy: {test_acc_metric.result().numpy():.4f}\")"
      ],
      "metadata": {
        "id": "KH-sDlHq_Gdw",
        "colab": {
          "base_uri": "https://localhost:8080/"
        },
        "outputId": "2cdbb0b6-872d-419a-a34f-6295e733251f"
      },
      "id": "KH-sDlHq_Gdw",
      "execution_count": null,
      "outputs": [
        {
          "output_type": "stream",
          "name": "stdout",
          "text": [
            "\n",
            "Epoch 1/5\n",
            "Step 0, Loss: 2.4435, Accuracy: 0.0625\n",
            "Step 100, Loss: 0.3788, Accuracy: 0.7636\n",
            "Step 200, Loss: 0.2483, Accuracy: 0.8277\n",
            "Step 300, Loss: 0.1808, Accuracy: 0.8513\n",
            "Step 400, Loss: 0.3741, Accuracy: 0.8666\n",
            "Step 500, Loss: 0.4448, Accuracy: 0.8782\n",
            "Step 600, Loss: 0.3491, Accuracy: 0.8850\n",
            "Step 700, Loss: 0.3618, Accuracy: 0.8917\n",
            "Step 800, Loss: 0.3253, Accuracy: 0.8967\n",
            "Step 900, Loss: 0.2967, Accuracy: 0.9018\n",
            "Step 1000, Loss: 0.2360, Accuracy: 0.9060\n",
            "Step 1100, Loss: 0.2197, Accuracy: 0.9088\n",
            "Step 1200, Loss: 0.1796, Accuracy: 0.9120\n",
            "Step 1300, Loss: 0.4300, Accuracy: 0.9144\n",
            "Step 1400, Loss: 0.0272, Accuracy: 0.9164\n",
            "Step 1500, Loss: 0.0826, Accuracy: 0.9186\n",
            "Step 1600, Loss: 0.1710, Accuracy: 0.9211\n",
            "Step 1700, Loss: 0.1593, Accuracy: 0.9232\n",
            "Step 1800, Loss: 0.2068, Accuracy: 0.9249\n",
            "Training Accuracy for epoch 1: 0.9261\n",
            "\n",
            "Epoch 2/5\n",
            "Step 0, Loss: 0.1660, Accuracy: 0.9375\n",
            "Step 100, Loss: 0.1919, Accuracy: 0.9616\n",
            "Step 200, Loss: 0.0921, Accuracy: 0.9596\n",
            "Step 300, Loss: 0.2784, Accuracy: 0.9604\n",
            "Step 400, Loss: 0.0805, Accuracy: 0.9611\n",
            "Step 500, Loss: 0.0146, Accuracy: 0.9628\n",
            "Step 600, Loss: 0.0830, Accuracy: 0.9630\n",
            "Step 700, Loss: 0.0447, Accuracy: 0.9628\n",
            "Step 800, Loss: 0.2038, Accuracy: 0.9638\n",
            "Step 900, Loss: 0.0809, Accuracy: 0.9644\n",
            "Step 1000, Loss: 0.1621, Accuracy: 0.9639\n",
            "Step 1100, Loss: 0.0592, Accuracy: 0.9641\n",
            "Step 1200, Loss: 0.0893, Accuracy: 0.9646\n",
            "Step 1300, Loss: 0.0067, Accuracy: 0.9645\n",
            "Step 1400, Loss: 0.1671, Accuracy: 0.9646\n",
            "Step 1500, Loss: 0.0630, Accuracy: 0.9647\n",
            "Step 1600, Loss: 0.0792, Accuracy: 0.9650\n",
            "Step 1700, Loss: 0.0710, Accuracy: 0.9651\n",
            "Step 1800, Loss: 0.0144, Accuracy: 0.9656\n",
            "Training Accuracy for epoch 2: 0.9657\n",
            "\n",
            "Epoch 3/5\n",
            "Step 0, Loss: 0.1026, Accuracy: 0.9688\n",
            "Step 100, Loss: 0.0371, Accuracy: 0.9700\n",
            "Step 200, Loss: 0.0293, Accuracy: 0.9725\n",
            "Step 300, Loss: 0.0865, Accuracy: 0.9727\n",
            "Step 400, Loss: 0.0284, Accuracy: 0.9723\n",
            "Step 500, Loss: 0.0142, Accuracy: 0.9730\n",
            "Step 600, Loss: 0.0643, Accuracy: 0.9737\n",
            "Step 700, Loss: 0.2445, Accuracy: 0.9741\n",
            "Step 800, Loss: 0.0390, Accuracy: 0.9744\n",
            "Step 900, Loss: 0.0261, Accuracy: 0.9745\n",
            "Step 1000, Loss: 0.0441, Accuracy: 0.9745\n",
            "Step 1100, Loss: 0.0398, Accuracy: 0.9745\n",
            "Step 1200, Loss: 0.2511, Accuracy: 0.9750\n",
            "Step 1300, Loss: 0.0611, Accuracy: 0.9750\n",
            "Step 1400, Loss: 0.1130, Accuracy: 0.9750\n",
            "Step 1500, Loss: 0.0725, Accuracy: 0.9751\n",
            "Step 1600, Loss: 0.2611, Accuracy: 0.9754\n",
            "Step 1700, Loss: 0.0596, Accuracy: 0.9755\n",
            "Step 1800, Loss: 0.1147, Accuracy: 0.9758\n",
            "Training Accuracy for epoch 3: 0.9760\n",
            "\n",
            "Epoch 4/5\n",
            "Step 0, Loss: 0.0275, Accuracy: 1.0000\n",
            "Step 100, Loss: 0.0457, Accuracy: 0.9814\n",
            "Step 200, Loss: 0.1374, Accuracy: 0.9798\n",
            "Step 300, Loss: 0.1324, Accuracy: 0.9806\n",
            "Step 400, Loss: 0.0244, Accuracy: 0.9808\n",
            "Step 500, Loss: 0.0226, Accuracy: 0.9806\n",
            "Step 600, Loss: 0.1248, Accuracy: 0.9809\n",
            "Step 700, Loss: 0.0662, Accuracy: 0.9809\n",
            "Step 800, Loss: 0.0151, Accuracy: 0.9807\n",
            "Step 900, Loss: 0.0180, Accuracy: 0.9809\n",
            "Step 1000, Loss: 0.1066, Accuracy: 0.9811\n",
            "Step 1100, Loss: 0.0722, Accuracy: 0.9808\n",
            "Step 1200, Loss: 0.0340, Accuracy: 0.9809\n",
            "Step 1300, Loss: 0.0962, Accuracy: 0.9805\n",
            "Step 1400, Loss: 0.0827, Accuracy: 0.9809\n",
            "Step 1500, Loss: 0.0128, Accuracy: 0.9810\n",
            "Step 1600, Loss: 0.0278, Accuracy: 0.9807\n",
            "Step 1700, Loss: 0.0863, Accuracy: 0.9809\n",
            "Step 1800, Loss: 0.0048, Accuracy: 0.9811\n",
            "Training Accuracy for epoch 4: 0.9813\n",
            "\n",
            "Epoch 5/5\n",
            "Step 0, Loss: 0.1160, Accuracy: 0.9688\n",
            "Step 100, Loss: 0.0534, Accuracy: 0.9808\n",
            "Step 200, Loss: 0.0172, Accuracy: 0.9831\n",
            "Step 300, Loss: 0.0053, Accuracy: 0.9853\n",
            "Step 400, Loss: 0.0196, Accuracy: 0.9854\n",
            "Step 500, Loss: 0.0341, Accuracy: 0.9854\n",
            "Step 600, Loss: 0.0083, Accuracy: 0.9856\n",
            "Step 700, Loss: 0.1162, Accuracy: 0.9861\n",
            "Step 800, Loss: 0.0743, Accuracy: 0.9862\n",
            "Step 900, Loss: 0.2885, Accuracy: 0.9857\n",
            "Step 1000, Loss: 0.0132, Accuracy: 0.9858\n",
            "Step 1100, Loss: 0.0458, Accuracy: 0.9859\n",
            "Step 1200, Loss: 0.0769, Accuracy: 0.9859\n",
            "Step 1300, Loss: 0.0484, Accuracy: 0.9862\n",
            "Step 1400, Loss: 0.0117, Accuracy: 0.9861\n",
            "Step 1500, Loss: 0.0192, Accuracy: 0.9862\n",
            "Step 1600, Loss: 0.0544, Accuracy: 0.9861\n",
            "Step 1700, Loss: 0.0084, Accuracy: 0.9861\n",
            "Step 1800, Loss: 0.0593, Accuracy: 0.9861\n",
            "Training Accuracy for epoch 5: 0.9862\n",
            "\n",
            "TF Training time: 392.56 seconds\n",
            "Test Accuracy: 0.9771\n"
          ]
        }
      ]
    },
    {
      "cell_type": "markdown",
      "source": [
        "## Performance Otimization with Graph Execution using @tf.function"
      ],
      "metadata": {
        "id": "E4Nlg4lb_qdW"
      },
      "id": "E4Nlg4lb_qdW"
    },
    {
      "cell_type": "code",
      "source": [
        "import tensorflow as tf\n",
        "from tensorflow.keras.datasets import mnist\n",
        "from tensorflow.keras.utils import to_categorical\n",
        "import time\n",
        "\n",
        "# Load and preprocess data\n",
        "(x_train, y_train), (x_test, y_test) = mnist.load_data()\n",
        "x_train = x_train / 255.0   # Normalize pixel values to [0, 1]\n",
        "x_test = x_test / 255.0     # Same normalization for test set\n",
        "y_train = to_categorical(y_train, num_classes=10)\n",
        "y_test = to_categorical(y_test, num_classes=10)\n",
        "\n",
        "# Prepare datasets\n",
        "batch_size = 32\n",
        "train_dataset = tf.data.Dataset.from_tensor_slices((x_train, y_train)).shuffle(10000).batch(batch_size)\n",
        "test_dataset = tf.data.Dataset.from_tensor_slices((x_test, y_test)).batch(batch_size)\n",
        "\n",
        "# Define model with improved architecture\n",
        "model = tf.keras.Sequential([\n",
        "    tf.keras.layers.Input(shape=(28, 28)),    # MNIST image size (28x28)\n",
        "    tf.keras.layers.Flatten(),\n",
        "    tf.keras.layers.Dense(256, activation='relu'),    # Increased neurons for better learning\n",
        "    tf.keras.layers.Dropout(0.2),                    # Regularization to prevent overfitting\n",
        "    tf.keras.layers.Dense(128, activation='relu'),   # Additional hidden layer\n",
        "    tf.keras.layers.Dense(10, activation='softmax')  # Output layer for 10 classes\n",
        "])\n",
        "\n",
        "# Define loss, optimizer, and metrics\n",
        "loss_fn = tf.keras.losses.CategoricalCrossentropy()\n",
        "optimizer = tf.keras.optimizers.Adam(learning_rate=0.001)  # Explicit learning rate\n",
        "train_acc_metric = tf.keras.metrics.CategoricalAccuracy()\n",
        "test_acc_metric = tf.keras.metrics.CategoricalAccuracy()\n",
        "\n",
        "@tf.function  # Compile the function into a graph for faster execution\n",
        "def train_step(x_batch, y_batch):\n",
        "    with tf.GradientTape() as tape:\n",
        "        logits = model(x_batch, training=True)\n",
        "        loss = loss_fn(y_batch, logits)\n",
        "    grads = tape.gradient(loss, model.trainable_variables)\n",
        "    optimizer.apply_gradients(zip(grads, model.trainable_variables))\n",
        "    train_acc_metric.update_state(y_batch, logits)\n",
        "    return loss\n",
        "\n",
        "# Training loop\n",
        "epochs = 5\n",
        "start = time.time()\n",
        "for epoch in range(epochs):\n",
        "    print(f\"\\nEpoch {epoch + 1}/{epochs}\")\n",
        "    for step, (x_batch, y_batch) in enumerate(train_dataset):\n",
        "        loss = train_step(x_batch, y_batch)\n",
        "\n",
        "        if step % 200 == 0:  # Reduced frequency of printing for cleaner output\n",
        "            print(f\"Step {step}, Loss: {loss.numpy():.4f}, Accuracy: {train_acc_metric.result().numpy():.4f}\")\n",
        "\n",
        "    print(f\"Training Accuracy for epoch {epoch+1}: {train_acc_metric.result().numpy():.4f}\")\n",
        "    train_acc_metric.reset_state()\n",
        "end = time.time()\n",
        "print(f\"\\nTF Training time: {end - start:.2f} seconds\")\n",
        "\n",
        "# Evaluation loop\n",
        "for x_batch, y_batch in test_dataset:\n",
        "    test_logits = model(x_batch, training=False)\n",
        "    test_acc_metric.update_state(y_batch, test_logits)\n",
        "\n",
        "print(f\"Test Accuracy: {test_acc_metric.result().numpy():.4f}\")"
      ],
      "metadata": {
        "id": "Jmu_hciK_qle",
        "colab": {
          "base_uri": "https://localhost:8080/"
        },
        "outputId": "ad157f38-b19b-4f75-f040-fe79d5230120"
      },
      "id": "Jmu_hciK_qle",
      "execution_count": null,
      "outputs": [
        {
          "output_type": "stream",
          "name": "stdout",
          "text": [
            "\n",
            "Epoch 1/5\n",
            "Step 0, Loss: 2.3228, Accuracy: 0.1250\n",
            "Step 200, Loss: 0.2773, Accuracy: 0.8197\n",
            "Step 400, Loss: 0.2494, Accuracy: 0.8632\n",
            "Step 600, Loss: 0.1857, Accuracy: 0.8862\n",
            "Step 800, Loss: 0.1535, Accuracy: 0.9004\n",
            "Step 1000, Loss: 0.0434, Accuracy: 0.9091\n",
            "Step 1200, Loss: 0.0599, Accuracy: 0.9145\n",
            "Step 1400, Loss: 0.2080, Accuracy: 0.9195\n",
            "Step 1600, Loss: 0.0333, Accuracy: 0.9239\n",
            "Step 1800, Loss: 0.1874, Accuracy: 0.9277\n",
            "Training Accuracy for epoch 1: 0.9290\n",
            "\n",
            "Epoch 2/5\n",
            "Step 0, Loss: 0.2064, Accuracy: 0.9688\n",
            "Step 200, Loss: 0.1068, Accuracy: 0.9661\n",
            "Step 400, Loss: 0.2689, Accuracy: 0.9651\n",
            "Step 600, Loss: 0.0189, Accuracy: 0.9639\n",
            "Step 800, Loss: 0.0067, Accuracy: 0.9648\n",
            "Step 1000, Loss: 0.1468, Accuracy: 0.9651\n",
            "Step 1200, Loss: 0.0602, Accuracy: 0.9660\n",
            "Step 1400, Loss: 0.1017, Accuracy: 0.9658\n",
            "Step 1600, Loss: 0.0345, Accuracy: 0.9658\n",
            "Step 1800, Loss: 0.0314, Accuracy: 0.9663\n",
            "Training Accuracy for epoch 2: 0.9666\n",
            "\n",
            "Epoch 3/5\n",
            "Step 0, Loss: 0.0351, Accuracy: 1.0000\n",
            "Step 200, Loss: 0.0566, Accuracy: 0.9729\n",
            "Step 400, Loss: 0.0974, Accuracy: 0.9741\n",
            "Step 600, Loss: 0.0113, Accuracy: 0.9749\n",
            "Step 800, Loss: 0.0264, Accuracy: 0.9739\n",
            "Step 1000, Loss: 0.0229, Accuracy: 0.9741\n",
            "Step 1200, Loss: 0.1485, Accuracy: 0.9740\n",
            "Step 1400, Loss: 0.2334, Accuracy: 0.9742\n",
            "Step 1600, Loss: 0.0274, Accuracy: 0.9741\n",
            "Step 1800, Loss: 0.1224, Accuracy: 0.9739\n",
            "Training Accuracy for epoch 3: 0.9739\n",
            "\n",
            "Epoch 4/5\n",
            "Step 0, Loss: 0.0851, Accuracy: 0.9688\n",
            "Step 200, Loss: 0.1143, Accuracy: 0.9787\n",
            "Step 400, Loss: 0.1911, Accuracy: 0.9786\n",
            "Step 600, Loss: 0.0281, Accuracy: 0.9780\n",
            "Step 800, Loss: 0.0756, Accuracy: 0.9775\n",
            "Step 1000, Loss: 0.0071, Accuracy: 0.9783\n",
            "Step 1200, Loss: 0.0118, Accuracy: 0.9782\n",
            "Step 1400, Loss: 0.2731, Accuracy: 0.9781\n",
            "Step 1600, Loss: 0.0316, Accuracy: 0.9781\n",
            "Step 1800, Loss: 0.3236, Accuracy: 0.9781\n",
            "Training Accuracy for epoch 4: 0.9782\n",
            "\n",
            "Epoch 5/5\n",
            "Step 0, Loss: 0.1845, Accuracy: 0.9375\n",
            "Step 200, Loss: 0.1317, Accuracy: 0.9781\n",
            "Step 400, Loss: 0.0728, Accuracy: 0.9818\n",
            "Step 600, Loss: 0.1417, Accuracy: 0.9816\n",
            "Step 800, Loss: 0.0305, Accuracy: 0.9824\n",
            "Step 1000, Loss: 0.0745, Accuracy: 0.9825\n",
            "Step 1200, Loss: 0.1674, Accuracy: 0.9821\n",
            "Step 1400, Loss: 0.0938, Accuracy: 0.9820\n",
            "Step 1600, Loss: 0.0073, Accuracy: 0.9820\n",
            "Step 1800, Loss: 0.0433, Accuracy: 0.9819\n",
            "Training Accuracy for epoch 5: 0.9821\n",
            "\n",
            "TF Training time: 40.82 seconds\n",
            "Test Accuracy: 0.9793\n"
          ]
        }
      ]
    }
  ],
  "metadata": {
    "colab": {
      "provenance": []
    },
    "language_info": {
      "name": "python"
    },
    "kernelspec": {
      "name": "python3",
      "display_name": "Python 3"
    }
  },
  "nbformat": 4,
  "nbformat_minor": 5
}